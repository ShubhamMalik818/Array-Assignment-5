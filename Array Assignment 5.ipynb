{
 "cells": [
  {
   "cell_type": "code",
   "execution_count": null,
   "id": "b58347b7-d999-42c1-bbcb-31c0e8f9c674",
   "metadata": {},
   "outputs": [],
   "source": [
    "Question 1\n",
    "\n",
    "Convert 1D Array Into 2D Array\n",
    "\n",
    "You are given a 0-indexed 1-dimensional (1D) integer array original, and two integers, m and n. You are tasked with creating a 2-dimensional (2D) array with  m rows and n columns using all the elements from original.\n",
    "\n",
    "The elements from indices 0 to n - 1 (inclusive) of original should form the first row of the constructed 2D array, the elements from indices n to 2 * n - 1 (inclusive) should form the second row of the constructed 2D array, and so on.\n",
    "\n",
    "Return an m x n 2D array constructed according to the above procedure, or an empty 2D array if it is impossible.\n",
    "\n",
    "Example 1:\n",
    "    \n",
    "Input: original = [1,2,3,4], m = 2, n = 2\n",
    "\n",
    "Output: [[1,2],[3,4]]\n",
    "\n",
    "Explanation: The constructed 2D array should contain 2 rows and 2 columns.\n",
    "\n",
    "The first group of n=2 elements in original, [1,2], becomes the first row in the constructed 2D array.\n",
    "\n",
    "The second group of n=2 elements in original, [3,4], becomes the second row in the constructed 2D array."
   ]
  },
  {
   "cell_type": "code",
   "execution_count": 1,
   "id": "0b100ac8-7729-4b97-9db6-963411ea41c3",
   "metadata": {},
   "outputs": [],
   "source": [
    "def convert_to_2d_array(original, m, n):\n",
    "    if len(original) != m * n:\n",
    "        return []\n",
    "\n",
    "    result = [[0] * n for _ in range(m)]\n",
    "\n",
    "    for i in range(m):\n",
    "        row_slice = original[i * n : (i + 1) * n]\n",
    "        result[i] = row_slice\n",
    "\n",
    "    return result"
   ]
  },
  {
   "cell_type": "code",
   "execution_count": 2,
   "id": "19082e56-e82e-4ee9-90ef-26f8c7af186d",
   "metadata": {},
   "outputs": [
    {
     "name": "stdout",
     "output_type": "stream",
     "text": [
      "[[1, 2], [3, 4]]\n"
     ]
    }
   ],
   "source": [
    "original = [1, 2, 3, 4]\n",
    "m = 2\n",
    "n = 2\n",
    "\n",
    "result = convert_to_2d_array(original, m, n)\n",
    "print(result)  # Output: [[1, 2], [3, 4]]"
   ]
  },
  {
   "cell_type": "code",
   "execution_count": null,
   "id": "985e8027-8abf-420f-807b-92f902b1276b",
   "metadata": {},
   "outputs": [],
   "source": [
    "Question 2\n",
    "\n",
    "You have n coins and you want to build a staircase with these coins. The staircase consists of k rows where the ith row has exactly i coins. \n",
    "The last row of the staircase may be incomplete.\n",
    "\n",
    "Given the integer n, return the number of complete rows of the staircase you will build.\n",
    "\n",
    "Example 1:\n",
    "\n",
    "Input: n = 5\n",
    "\n",
    "Output: 2\n",
    "\n",
    "Explanation: Because the 3rd row is incomplete, we return 2"
   ]
  },
  {
   "cell_type": "code",
   "execution_count": 3,
   "id": "a710d5fa-6307-4be0-9a61-f252541b3f55",
   "metadata": {},
   "outputs": [],
   "source": [
    "def completeStaircaseRows(n):\n",
    "    left = 1\n",
    "    right = n\n",
    "\n",
    "    while left <= right:\n",
    "        mid = (left + right) // 2\n",
    "        sum = (mid * (mid + 1)) // 2\n",
    "\n",
    "        if sum <= n:\n",
    "            left = mid + 1\n",
    "        else:\n",
    "            right = mid - 1\n",
    "\n",
    "    return right"
   ]
  },
  {
   "cell_type": "code",
   "execution_count": 4,
   "id": "b23bc83d-5859-49cc-bc03-9d656306f4f2",
   "metadata": {},
   "outputs": [
    {
     "name": "stdout",
     "output_type": "stream",
     "text": [
      "2\n"
     ]
    }
   ],
   "source": [
    "n = 5\n",
    "print(completeStaircaseRows(n))"
   ]
  },
  {
   "cell_type": "code",
   "execution_count": null,
   "id": "13871b8f-cfe6-44b9-a14b-b9901685cd81",
   "metadata": {},
   "outputs": [],
   "source": [
    "Question 3\n",
    "\n",
    "Given an integer array nums sorted in non-decreasing order, return an array of the squares of each number sorted in non-decreasing order.\n",
    "\n",
    "Example 1:\n",
    "\n",
    "Input: nums = [-4,-1,0,3,10]\n",
    "\n",
    "Output: [0,1,9,16,100]\n",
    "\n",
    "Explanation: After squaring, the array becomes [16,1,0,9,100].\n",
    "\n",
    "After sorting, it becomes [0,1,9,16,100]."
   ]
  },
  {
   "cell_type": "code",
   "execution_count": 5,
   "id": "a9e1c321-bf40-49e1-bcbb-dd8e9aeea020",
   "metadata": {},
   "outputs": [],
   "source": [
    "def sortedSquares(nums):\n",
    "    left = 0\n",
    "    right = len(nums) - 1\n",
    "    result = []\n",
    "\n",
    "    while left <= right:\n",
    "        num_left = nums[left] * nums[left]\n",
    "        num_right = nums[right] * nums[right]\n",
    "\n",
    "        if num_left >= num_right:\n",
    "            result.append(num_left)\n",
    "            left += 1\n",
    "        else:\n",
    "            result.append(num_right)\n",
    "            right -= 1\n",
    "\n",
    "    # Add remaining elements from the left or right portion\n",
    "    while left <= right:\n",
    "        result.append(nums[left] * nums[left])\n",
    "        left += 1\n",
    "\n",
    "    while right >= left:\n",
    "        result.append(nums[right] * nums[right])\n",
    "        right -= 1\n",
    "\n",
    "    # Reverse the result array to get non-decreasing order\n",
    "    result.reverse()\n",
    "\n",
    "    return result"
   ]
  },
  {
   "cell_type": "code",
   "execution_count": 6,
   "id": "c800f7f7-dbf8-466e-aab7-b868edf35799",
   "metadata": {},
   "outputs": [
    {
     "name": "stdout",
     "output_type": "stream",
     "text": [
      "[0, 1, 9, 16, 100]\n"
     ]
    }
   ],
   "source": [
    "nums = [-4, -1, 0, 3, 10]\n",
    "print(sortedSquares(nums))"
   ]
  },
  {
   "cell_type": "code",
   "execution_count": null,
   "id": "f3d2dbee-a4c5-4d05-a56c-f99dd861204b",
   "metadata": {},
   "outputs": [],
   "source": [
    "Question 4\n",
    "\n",
    "Given two 0-indexed integer arrays nums1 and nums2, return a list answer of size 2 where:\n",
    "\n",
    "- answer[0] is a list of all distinct integers in nums1 which are not present in nums2.\n",
    "- answer[1] is a list of all distinct integers in nums2 which are not present in nums1.\n",
    "\n",
    "Note that the integers in the lists may be returned in any order.\n",
    "\n",
    "Example 1:\n",
    "\n",
    "Input: nums1 = [1,2,3], nums2 = [2,4,6]\n",
    "\n",
    "Output: [[1,3],[4,6]]\n",
    "\n",
    "Explanation:\n",
    "\n",
    "For nums1, nums1[1] = 2 is present at index 0 of nums2, whereas nums1[0] = 1 and nums1[2] = 3 are not present in nums2. Therefore, answer[0] = [1,3].\n",
    "\n",
    "For nums2, nums2[0] = 2 is present at index 1 of nums1, whereas nums2[1] = 4 and nums2[2] = 6 are not present in nums2. Therefore, answer[1] = [4,6]."
   ]
  },
  {
   "cell_type": "code",
   "execution_count": 7,
   "id": "09f73e79-09f8-4472-a3b4-7cfab9c51f91",
   "metadata": {},
   "outputs": [],
   "source": [
    "def findDisappearedNumbers(nums1, nums2):\n",
    "    set1 = set(nums1)\n",
    "    set2 = set(nums2)\n",
    "\n",
    "    result1 = [num for num in nums1 if num not in set2]\n",
    "    result2 = [num for num in nums2 if num not in set1]\n",
    "\n",
    "    return [result1, result2]"
   ]
  },
  {
   "cell_type": "code",
   "execution_count": 8,
   "id": "51e0762a-a8c3-44cd-ad0d-db504007c627",
   "metadata": {},
   "outputs": [
    {
     "name": "stdout",
     "output_type": "stream",
     "text": [
      "[[1, 3], [4, 6]]\n"
     ]
    }
   ],
   "source": [
    "nums1 = [1, 2, 3]\n",
    "nums2 = [2, 4, 6]\n",
    "print(findDisappearedNumbers(nums1, nums2))"
   ]
  },
  {
   "cell_type": "code",
   "execution_count": null,
   "id": "be8f3caf-da03-4326-9413-28a0e1cbb932",
   "metadata": {},
   "outputs": [],
   "source": [
    "Question 5\n",
    "\n",
    "Given two integer arrays arr1 and arr2, and the integer d, return the distance value between the two arrays.\n",
    "\n",
    "The distance value is defined as the number of elements arr1[i] such that there is not any element arr2[j] where |arr1[i]-arr2[j]| <= d.\n",
    "\n",
    "Example 1:\n",
    "\n",
    "Input: arr1 = [4,5,8], arr2 = [10,9,1,8], d = 2\n",
    "\n",
    "Output: 2\n",
    "\n",
    "Explanation:\n",
    "\n",
    "For arr1[0]=4 we have:\n",
    "\n",
    "|4-10|=6 > d=2\n",
    "\n",
    "|4-9|=5 > d=2\n",
    "\n",
    "|4-1|=3 > d=2\n",
    "\n",
    "|4-8|=4 > d=2\n",
    "\n",
    "For arr1[1]=5 we have:\n",
    "\n",
    "|5-10|=5 > d=2\n",
    "\n",
    "|5-9|=4 > d=2\n",
    "\n",
    "|5-1|=4 > d=2\n",
    "\n",
    "|5-8|=3 > d=2\n",
    "\n",
    "For arr1[2]=8 we have:\n",
    "\n",
    "|8-10|=2 <= d=2\n",
    "\n",
    "|8-9|=1 <= d=2\n",
    "\n",
    "|8-1|=7 > d=2\n",
    "\n",
    "|8-8|=0 <= d=2"
   ]
  },
  {
   "cell_type": "code",
   "execution_count": 9,
   "id": "6883c84b-e7b7-4af5-84b3-73a7638ecd40",
   "metadata": {},
   "outputs": [],
   "source": [
    "def findTheDistanceValue(arr1, arr2, d):\n",
    "    distance = 0\n",
    "\n",
    "    for num1 in arr1:\n",
    "        found = False\n",
    "        for num2 in arr2:\n",
    "            if abs(num1 - num2) <= d:\n",
    "                found = True\n",
    "                break\n",
    "        if not found:\n",
    "            distance += 1\n",
    "\n",
    "    return distance"
   ]
  },
  {
   "cell_type": "code",
   "execution_count": 10,
   "id": "37d4c04a-df22-4f8a-9f7f-c5d4ded7cf35",
   "metadata": {},
   "outputs": [
    {
     "name": "stdout",
     "output_type": "stream",
     "text": [
      "2\n"
     ]
    }
   ],
   "source": [
    "arr1 = [4, 5, 8]\n",
    "arr2 = [10, 9, 1, 8]\n",
    "d = 2\n",
    "print(findTheDistanceValue(arr1, arr2, d))"
   ]
  },
  {
   "cell_type": "code",
   "execution_count": null,
   "id": "910d4910-cb6f-4529-9542-e47630bc8ecc",
   "metadata": {},
   "outputs": [],
   "source": [
    "Question 6\n",
    "\n",
    "Given an integer array nums of length n where all the integers of nums are in the range [1, n] and each integer appears once or twice, \n",
    "return an array of all the integers that appears twice.\n",
    "\n",
    "You must write an algorithm that runs in O(n) time and uses only constant extra space.\n",
    "\n",
    "Example 1:\n",
    "\n",
    "Input: nums = [4,3,2,7,8,2,3,1]\n",
    "\n",
    "Output:\n",
    "\n",
    "[2,3]"
   ]
  },
  {
   "cell_type": "code",
   "execution_count": 11,
   "id": "3abba6a7-2321-490b-9710-f4e62a0dbd21",
   "metadata": {},
   "outputs": [],
   "source": [
    "def findDuplicates(nums):\n",
    "    result = []\n",
    "\n",
    "    for num in nums:\n",
    "        index = abs(num)\n",
    "        if nums[index - 1] > 0:\n",
    "            nums[index - 1] *= -1\n",
    "        else:\n",
    "            result.append(index)\n",
    "\n",
    "    return result"
   ]
  },
  {
   "cell_type": "code",
   "execution_count": 12,
   "id": "a65c9427-1844-46fd-bde5-2fa3a15cd6a2",
   "metadata": {},
   "outputs": [
    {
     "name": "stdout",
     "output_type": "stream",
     "text": [
      "[2, 3]\n"
     ]
    }
   ],
   "source": [
    "nums = [4, 3, 2, 7, 8, 2, 3, 1]\n",
    "print(findDuplicates(nums))"
   ]
  },
  {
   "cell_type": "code",
   "execution_count": null,
   "id": "b5628b4c-eac6-46df-b480-09d8fad4935b",
   "metadata": {},
   "outputs": [],
   "source": [
    "Question 7\n",
    "\n",
    "Suppose an array of length n sorted in ascending order is rotated between 1 and n times. For example, the array nums = [0,1,2,4,5,6,7] \n",
    "might become:\n",
    "\n",
    "- [4,5,6,7,0,1,2] if it was rotated 4 times.\n",
    "- [0,1,2,4,5,6,7] if it was rotated 7 times.\n",
    "\n",
    "Notice that rotating an array [a[0], a[1], a[2], ..., a[n-1]] 1 time results in the array [a[n-1], a[0], a[1], a[2], ..., a[n-2]].\n",
    "\n",
    "Given the sorted rotated array nums of unique elements, return the minimum element of this array.\n",
    "\n",
    "You must write an algorithm that runs in O(log n) time.\n",
    "\n",
    "Example 1:\n",
    "\n",
    "Input: nums = [3,4,5,1,2]\n",
    "\n",
    "Output: 1\n",
    "\n",
    "Explanation:\n",
    "\n",
    "The original array was [1,2,3,4,5] rotated 3 times."
   ]
  },
  {
   "cell_type": "code",
   "execution_count": 13,
   "id": "0047d962-ba3e-4a97-9915-22f893c2712e",
   "metadata": {},
   "outputs": [],
   "source": [
    "def findMin(nums):\n",
    "    left = 0\n",
    "    right = len(nums) - 1\n",
    "\n",
    "    while left < right:\n",
    "        mid = left + (right - left) // 2\n",
    "\n",
    "        if nums[mid] > nums[right]:\n",
    "            left = mid + 1\n",
    "        else:\n",
    "            right = mid\n",
    "\n",
    "    return nums[left]"
   ]
  },
  {
   "cell_type": "code",
   "execution_count": 14,
   "id": "f410e7b6-aa43-48eb-81f5-22a54b8abaa4",
   "metadata": {},
   "outputs": [
    {
     "name": "stdout",
     "output_type": "stream",
     "text": [
      "1\n"
     ]
    }
   ],
   "source": [
    "nums = [3, 4, 5, 1, 2]\n",
    "print(findMin(nums))"
   ]
  },
  {
   "cell_type": "code",
   "execution_count": null,
   "id": "6376e593-744f-4dcc-924b-9d50d0a63840",
   "metadata": {},
   "outputs": [],
   "source": [
    "Question 8\n",
    "\n",
    "An integer array original is transformed into a doubled array changed by appending twice the value of every element in original, \n",
    "and then randomly shuffling the resulting array.\n",
    "\n",
    "Given an array changed, return original if changed is a doubled array. If changed is not a doubled array, return an empty array. \n",
    "The elements in original may be returned in any order.\n",
    "\n",
    "Example 1:\n",
    "\n",
    "Input: changed = [1,3,4,2,6,8]\n",
    "\n",
    "Output: [1,3,4]\n",
    "\n",
    "Explanation: One possible original array could be [1,3,4]:\n",
    "\n",
    "- Twice the value of 1 is 1 * 2 = 2.\n",
    "- Twice the value of 3 is 3 * 2 = 6.\n",
    "- Twice the value of 4 is 4 * 2 = 8.\n",
    "\n",
    "Other original arrays could be [4,3,1] or [3,1,4]."
   ]
  },
  {
   "cell_type": "code",
   "execution_count": 21,
   "id": "d549f40d-44ca-4698-b606-31c198c8e2bd",
   "metadata": {},
   "outputs": [],
   "source": [
    "def findOriginalArray(changed):\n",
    "    original = []\n",
    "    remaining = list(changed)\n",
    "\n",
    "    for num in changed:\n",
    "        if num / 2 in remaining:\n",
    "            original.append(num / 2)\n",
    "            remaining.remove(num / 2)\n",
    "        if not remaining:\n",
    "            return original\n",
    "\n",
    "    return []"
   ]
  },
  {
   "cell_type": "code",
   "execution_count": 23,
   "id": "14771a0b-fb77-436d-8a25-46f201276c4f",
   "metadata": {},
   "outputs": [
    {
     "name": "stdout",
     "output_type": "stream",
     "text": [
      "[]\n"
     ]
    }
   ],
   "source": [
    "changed = [1, 3, 4, 2, 6, 8]\n",
    "print(findOriginalArray((changed)))"
   ]
  },
  {
   "cell_type": "code",
   "execution_count": 24,
   "id": "2949a6a1-dd98-45d3-9e95-27e3a97edf5e",
   "metadata": {},
   "outputs": [],
   "source": [
    "def findOriginalArray(changed):\n",
    "    if len(changed) % 2 != 0:\n",
    "        return []  # If the number of elements is odd, original array is not possible\n",
    "\n",
    "    original = sorted(changed)  # Sort the changed array to easily remove elements from the original array\n",
    "\n",
    "    result = []\n",
    "\n",
    "    for num in changed:\n",
    "        if num % 2 != 0:\n",
    "            return []  # If any element in the changed array is odd, original array is not possible\n",
    "\n",
    "        potential_element = num // 2\n",
    "\n",
    "        if potential_element in original:\n",
    "            result.append(potential_element)\n",
    "            original.remove(potential_element)\n",
    "        else:\n",
    "            return []  # If potential element is not present in original array, original array is not possible\n",
    "\n",
    "    return result"
   ]
  },
  {
   "cell_type": "code",
   "execution_count": 25,
   "id": "cc662bc5-7c88-4593-92c9-06043ac158af",
   "metadata": {},
   "outputs": [
    {
     "name": "stdout",
     "output_type": "stream",
     "text": [
      "[]\n"
     ]
    }
   ],
   "source": [
    "changed = [1, 3, 4, 2, 6, 8]\n",
    "print(findOriginalArray(changed))"
   ]
  },
  {
   "cell_type": "code",
   "execution_count": null,
   "id": "e19c229f-d404-4f1b-a055-39a5b653a1b5",
   "metadata": {},
   "outputs": [],
   "source": []
  }
 ],
 "metadata": {
  "kernelspec": {
   "display_name": "Python 3 (ipykernel)",
   "language": "python",
   "name": "python3"
  },
  "language_info": {
   "codemirror_mode": {
    "name": "ipython",
    "version": 3
   },
   "file_extension": ".py",
   "mimetype": "text/x-python",
   "name": "python",
   "nbconvert_exporter": "python",
   "pygments_lexer": "ipython3",
   "version": "3.10.8"
  }
 },
 "nbformat": 4,
 "nbformat_minor": 5
}
